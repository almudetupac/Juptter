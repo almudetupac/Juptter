{
 "cells": [
  {
   "cell_type": "markdown",
   "metadata": {},
   "source": [
    "<img src=\"./logo_UTN.svg\" align=\"right\" width=\"150\" /> \n",
    "#### Teoría de Circuitos II\n",
    "\n",
    "# Problema desafío\n",
    "\n"
   ]
  },
  {
   "cell_type": "markdown",
   "metadata": {},
   "source": [
    "Se pide diseñar un filtro pasabajo que satisfaga la siguiente plantilla:\n",
    "\n",
    " * $\\omega_p  = 500$ Hz\n",
    " * $\\omega_s  = 1500$ Hz\n",
    " * $\\alpha_{max}  = 1$ dB\n",
    " * $\\alpha_{min}  = 18$ dB\n",
    "\n",
    "a) Determine si el siguiente diseño puede realizarse con una sola sección de segundo orden cuya respuesta de módulo es de **máxima planicidad**.\n",
    "\n"
   ]
  },
  {
   "cell_type": "markdown",
   "metadata": {},
   "source": [
    "#### normalizo la frecuencia\n",
    "\n",
    "\\begin{equation}\n",
    "\\omega_p =\\Omega_w = 500 Hz \\rightarrow omega_p = 1.\n",
    "\\end{equation}\n",
    "\n",
    "\\begin{equation}\n",
    "\\omega'_s = \\frac{\\omega_s}{\\Omega_w} = 3\n",
    "\\end{equation}\n"
   ]
  },
  {
   "cell_type": "code",
   "execution_count": 1,
   "metadata": {
    "scrolled": true
   },
   "outputs": [
    {
     "data": {
      "image/png": "[encoded data removed]",
      "text/plain": [
       "<Figure size 432x288 with 1 Axes>"
      ]
     },
     "metadata": {
      "needs_background": "light"
     },
     "output_type": "display_data"
    }
   ],
   "source": [
    "import numpy as np\n",
    "import matplotlib.pyplot as plt\n",
    "import numpy as np\n",
    "import matplotlib as mpl\n",
    "\n",
    "\n",
    "alfa_max = 1\n",
    "alfa_min = 18\n",
    "Wp = 1\n",
    "Ws = 3\n",
    "\n",
    "\n",
    "## Ploteo Plantilla pasa Bajos\n",
    "\n",
    "w_banda_paso = np.linspace(0, Wp)\n",
    "w_banda_att = np.linspace(Ws, 10)  \n",
    "\n",
    "# Lineas verticales para mejor visualizacion\n",
    "vertical_banda_paso = np.linspace(0, alfa_max)\n",
    "vertical_banda_att = np.linspace(0, alfa_min)\n",
    "\n",
    "# Ploteo\n",
    "\n",
    "\n",
    "fig, ax = plt.subplots()\n",
    "ax.ticklabel_format(useOffset=False)\n",
    "ax.set_ylabel('Att [db}')\n",
    "ax.set_xlabel('w')\n",
    "ax.grid(True)\n",
    "ticks = range(0, 11)\n",
    "ax.set_xticks(ticks)\n",
    "ax.plot(w_banda_paso, [alfa_max] * len(w_banda_paso), '-b')\n",
    "ax.plot(w_banda_att, [alfa_min] * len(w_banda_att), '-b')\n",
    "ax.plot([1] * len(vertical_banda_paso), vertical_banda_paso, '-b')\n",
    "ax.plot([Ws] * len(vertical_banda_att), vertical_banda_att, '-b')\n",
    "\n",
    "plt.show()"
   ]
  },
  {
   "cell_type": "markdown",
   "metadata": {},
   "source": [
    "#### calculo n para $\\alpha_{min} > 18$dB - Maxima Planicidad\n",
    "\n",
    "\\begin{equation}\n",
    "\\varepsilon^2 = 10^{\\alpha_{max}.0,1}-1\n",
    "\\end{equation}\n",
    "\n",
    "\\begin{equation}\n",
    "\\alpha = 10.log(1+\\varepsilon^2.{\\omega'_s}^{2.n})\n",
    "\\end{equation}\n",
    "\n",
    "Itero $n$ hasta que $\\alpha > \\alpha_{min}$"
   ]
  },
  {
   "cell_type": "code",
   "execution_count": 2,
   "metadata": {},
   "outputs": [
    {
     "name": "stdout",
     "output_type": "stream",
     "text": [
      "n 2 - alfa_min 13.418885\n",
      "n 3 - alfa_min 22.781969\n"
     ]
    }
   ],
   "source": [
    "\n",
    "ee = 10**(alfa_max/10)-1\n",
    "\n",
    "for n in range(2,4):\n",
    "    \n",
    "    alfa_min = 10*np.log10(1 + ee * Ws**(2*n))\n",
    "    \n",
    "    print( 'n {:d} - alfa_min {:f}'.format(n, alfa_min) )\n",
    "\n"
   ]
  },
  {
   "cell_type": "markdown",
   "metadata": {},
   "source": [
    "\n",
    "<table class=\"egt\">\n",
    "  <tr>\n",
    "    <th>n</th>\n",
    "    <th>$\\alpha_{min}$</th>\n",
    "  </tr>\n",
    "  <tr>\n",
    "    <td>2</td>\n",
    "    <td>13.419</td>\n",
    "  </tr>\n",
    "  <tr>\n",
    "    <td>3</td>\n",
    "    <td>22.782</td>\n",
    "  </tr>\n",
    "</table>\n",
    "\n",
    "\n",
    " Se necesita un filtro de $3^{er}$ orden para satisfacer los requerimientos con **máxima planicidad**\n",
    " "
   ]
  },
  {
   "cell_type": "markdown",
   "metadata": {},
   "source": [
    "b) Si el mismo diseño se planteara mediante una aproximación **Chebyshev**, se pide:\n",
    " \n",
    "   * la función transferencia normalizada\n",
    "   * las respuestas de módulo, fase y la localización de polos y ceros\n"
   ]
  },
  {
   "cell_type": "markdown",
   "metadata": {},
   "source": [
    "#### calculo n para $\\alpha_{min} > 18$dB - Chebyshev\n",
    "\n",
    "\\begin{equation}\n",
    "\\varepsilon^2 = 10^{\\alpha_{max}.0,1}-1\n",
    "\\end{equation}\n",
    "\n",
    "\\begin{equation}\n",
    "\\alpha = 10.log{\\{1+\\varepsilon^2.\\cosh^2 [n.\\cosh^{-1}(\\omega'_s)]\\}}\n",
    "\\end{equation}\n",
    "\n",
    "Itero $n$ hasta que $\\alpha > \\alpha_{min}$"
   ]
  },
  {
   "cell_type": "code",
   "execution_count": 3,
   "metadata": {},
   "outputs": [
    {
     "name": "stdout",
     "output_type": "stream",
     "text": [
      "n 2 - alfa_min 18.798379\n",
      "n 3 - alfa_min 34.046162\n"
     ]
    }
   ],
   "source": [
    "\n",
    "ee = 10**(alfa_max/10)-1\n",
    "\n",
    "for n in range(2,4):\n",
    "    \n",
    "    alfa_min = 10*np.log10(1 + ee * np.cosh(n * np.arccosh(Ws))**2 )\n",
    "    \n",
    "    print( 'n {:d} - alfa_min {:f}'.format(n, alfa_min) )\n",
    "\n"
   ]
  },
  {
   "cell_type": "markdown",
   "metadata": {},
   "source": [
    "\n",
    "<table class=\"egt\">\n",
    "  <tr>\n",
    "    <th>n</th>\n",
    "    <th>$\\alpha_{min}$</th>\n",
    "  </tr>\n",
    "  <tr>\n",
    "    <td>2</td>\n",
    "    <td>18.798</td>\n",
    "  </tr>\n",
    "  <tr>\n",
    "    <td>3</td>\n",
    "    <td>34.046</td>\n",
    "  </tr>\n",
    "</table>\n",
    "\n",
    "\n",
    " Se necesita un filtro de $2^{o}$ orden para satisfacer los requerimientos con **Chebyshev**\n",
    " "
   ]
  },
  {
   "cell_type": "markdown",
   "metadata": {},
   "source": [
    "#### Transferencia Chebyshev\n",
    "\n",
    "\\begin{equation}\n",
    "|T_c|^2 = \\frac{1}{1+\\varepsilon^2.C_n^2(\\omega)}\n",
    "\\end{equation}\n",
    "\n",
    "\\begin{equation}\n",
    "C_n(\\omega)= 2.\\omega.C_{n-1}-C_{n-2}\n",
    "\\end{equation}\n",
    "\n",
    "\\begin{equation}\n",
    "C_0(\\omega)= 1\n",
    "\\end{equation}\n",
    "\n",
    "\\begin{equation}\n",
    "C_1(\\omega)= \\omega\n",
    "\\end{equation}\n",
    "\n",
    "\\begin{equation}\n",
    "C_2(\\omega)= 2.\\omega.\\omega-1 = 2.\\omega^2-1\n",
    "\\end{equation}\n",
    "\n",
    "\n",
    "\\begin{equation}\n",
    "si: n = 2\n",
    "\\end{equation}\n",
    "\n",
    "\\begin{equation}\n",
    "|T_c|^2 = \\frac{1}{1+\\varepsilon^2(2.\\omega^2-1)^2}\n",
    "\\end{equation}\n",
    "\n",
    "\\begin{equation}\n",
    "|T_c|^2 = \\frac{1}{1+\\varepsilon^2(4.\\omega^4-4.\\omega^2+1)}\n",
    "\\end{equation}\n",
    "\n",
    "\\begin{equation}\n",
    "|T_c|^2 = \\frac{1}{\\varepsilon^2.4.\\omega^4-\\varepsilon^2.4.\\omega^2+(1+\\varepsilon^2)}\n",
    "\\end{equation}\n",
    "\n",
    "\\begin{equation}\n",
    "|T_c|^2_{w=\\frac{s}{j}} = \\frac{1}{\\varepsilon^2.4.(\\frac{s}{j})^4-\\varepsilon^2.4.(\\frac{s}{j})^2+(1+\\varepsilon^2)}\n",
    "\\end{equation}\n",
    "\n",
    "\\begin{equation}\n",
    "|T_c|^2_s = \\frac{1}{S^4.\\varepsilon^2.4+S^2.\\varepsilon^2.4+(1+\\varepsilon^2)}\n",
    "\\end{equation}\n",
    "\n",
    "\\begin{equation}\n",
    "|T_c|^2_s = T_s.T_{-s}\n",
    "\\end{equation}\n",
    "\n",
    "\\begin{equation}\n",
    "|T_c|^2_s = \\frac{1}{S^4.\\varepsilon^2.4+S^2.\\varepsilon^2.4+(1+\\varepsilon^2)} = \\frac{1}{S^2.a+S.b+c}.\\frac{1}{S^2.a-S.b+c}\n",
    "\\end{equation}\n",
    "\n",
    "\\begin{equation}\n",
    "\\varepsilon^2.4 = a^2 \\rightarrow a = 2.\\varepsilon\n",
    "\\end{equation}\n",
    "\n",
    "\\begin{equation}\n",
    "\\varepsilon^2.4 = 2.a.c -b^2 \\rightarrow b = \\sqrt{2.a.c - \\varepsilon^2.4}\n",
    "\\end{equation}\n",
    "\n",
    "\\begin{equation}\n",
    "1+\\varepsilon^2 = c^2 \\rightarrow c = \\sqrt{1+\\varepsilon^2}\n",
    "\\end{equation}\n",
    "\n",
    "\n",
    "T_s =\\frac{c}{S^2.a+S.b+c}\n"
   ]
  },
  {
   "cell_type": "code",
   "execution_count": 4,
   "metadata": {},
   "outputs": [
    {
     "name": "stdout",
     "output_type": "stream",
     "text": [
      "a = 1.017694\n",
      "b = 1.117158\n",
      "c = 1.122018\n"
     ]
    }
   ],
   "source": [
    "\n",
    "e = np.sqrt(ee)\n",
    "a = 2*e\n",
    "c = np.sqrt(1+ee)\n",
    "b = np.sqrt(2*a*c - ee*4)\n",
    "\n",
    "print( 'a = {:f}'.format(a) )\n",
    "print( 'b = {:f}'.format(b) )\n",
    "print( 'c = {:f}'.format(c) )"
   ]
  },
  {
   "cell_type": "markdown",
   "metadata": {},
   "source": [
    "#### Finalmente:\n",
    "\n",
    "Multiplico por $c$ para que la ganancia en continua sea 1\n",
    "\n",
    "\\begin{equation}\n",
    "T_s = \\frac{c}{S^2.a+S.b+c}\n",
    "\\end{equation}\n",
    "\n",
    "\\begin{equation}\n",
    "T_s = \\frac{1.122}{S^2.1,018+S.1.117+1.122}\n",
    "\\end{equation}\n",
    "\n",
    "\\begin{equation}\n",
    "T_s = \\frac{1.122}{S^2.1,018+S.1.117+1.122}\n",
    "\\end{equation}"
   ]
  },
  {
   "cell_type": "code",
   "execution_count": 25,
   "metadata": {
    "scrolled": true
   },
   "outputs": [
    {
     "data": {
      "image/png": "[encoded data removed]",
      "text/plain": [
       "<Figure size 720x720 with 2 Axes>"
      ]
     },
     "metadata": {
      "needs_background": "light"
     },
     "output_type": "display_data"
    },
    {
     "data": {
      "image/png": "[encoded data removed]",
      "text/plain": [
       "<Figure size 720x720 with 1 Axes>"
      ]
     },
     "metadata": {
      "needs_background": "light"
     },
     "output_type": "display_data"
    }
   ],
   "source": [
    "#%%  Inicialización de librerías\n",
    "# Setup inline graphics: Esto lo hacemos para que el tamaño de la salida, \n",
    "# sea un poco más adecuada al tamaño del documento\n",
    "mpl.rcParams['figure.figsize'] = (10,10)\n",
    "\n",
    "#%% Esto tiene que ver con cuestiones de presentación de los gráficos,\n",
    "# NO ES IMPORTANTE\n",
    "fig_sz_x = 14\n",
    "fig_sz_y = 13\n",
    "fig_dpi = 80 # dpi\n",
    "fig_font_family = 'Sans'\n",
    "fig_font_size = 16\n",
    "\n",
    "plt.rcParams.update({'font.size':fig_font_size})\n",
    "plt.rcParams.update({'font.family':fig_font_family})\n",
    "\n",
    "# módulo de SciPy\n",
    "from scipy import signal as sig\n",
    "\n",
    "\n",
    "# un módulo adaptado a mis necesidades\n",
    "from splane import bodePlot, pzmap\n",
    "        \n",
    "# Definimos los parámetros de la transferencia:\n",
    "\n",
    "# O bien en términos de los parámetros w0 y Q\n",
    "\n",
    "w0 = 1\n",
    "Q = 5\n",
    "\n",
    "# Cargamos la función transferencia\n",
    "\n",
    "num = np.array([ c ])\n",
    "den = np.array([ a, b, c ])\n",
    "\n",
    "\n",
    "H = sig.TransferFunction( num, den )\n",
    "\n",
    "# Graficamos el diagrama de polos y ceros\n",
    "# Graficamos la respuesta en frecuencia para el módulo y la fase.\n",
    "\n",
    "_, axes_hdl = bodePlot(H)\n",
    "\n",
    "\n",
    "# para que se vea como uno intuye el módulo. Probar comentar las siguientes 2 líneas\n",
    "#plt.sca(axes_hdl[0])\n",
    "#plt.ylim([-1,1])\n",
    "\n",
    "plt.gca\n",
    "\n",
    "pzmap(H)\n",
    "\n",
    "plt.show()\n"
   ]
  },
  {
   "cell_type": "markdown",
   "metadata": {},
   "source": [
    "c) Implemente el filtro solicitado mediante la siguiente red y corrobore su funcionamiento respecto a la plantilla de requerimientos.\n",
    "\n",
    "  <img src=\"./ACKMOSS.png\" align=\"center\" width=\"80%\" /> \n",
    " \n",
    " "
   ]
  },
  {
   "cell_type": "markdown",
   "metadata": {},
   "source": [
    "\\begin{equation}\n",
    "\\left\\lbrace\n",
    "\\begin{array}{ll}\n",
    "0 = V_a(\\frac{K}{R}+\\frac{1}{R_1}+\\frac{1}{QR}+SC)-V_1\\frac{K}{R}+V_2\\frac{1}{R_1}-V_3(\\frac{1}{QR}+SC))\\\\\n",
    "0 = V_b(\\frac{1}{R_1}+SC)-V_3\\frac{1}{R_1}-V_4SC\\\\\n",
    "0 = Vc(\\frac{1}{R}+\\frac{1}{R})-V_2\\frac{1}{R}-V_4\\frac{1}{R}\\\\\n",
    "V_a = V_b = V_c = 0v\n",
    "\\end{array}\n",
    "\\right.\n",
    "\\end{equation}\n",
    "\n",
    "\\begin{equation}\n",
    "\\Rightarrow \\left\\lbrace\n",
    "\\begin{array}{ll}\n",
    "0 = V_1\\frac{K}{R}+V_2\\frac{1}{R_1}+V_3(\\frac{1}{QR}+SC)\\\\\n",
    "0 = V_3\\frac{1}{R_1}+V_4SC \\Rightarrow V_3 = - V_2 SCR_1\\\\\n",
    "0 = V_2\\frac{1}{R}+V_4\\frac{1}{R} \\Rightarrow V_4 = -V_2 \n",
    "\\end{array}\n",
    "\\right.\n",
    "\\end{equation}\n",
    "\n",
    "\n",
    "\\begin{equation}\n",
    "V_2\\frac{1}{R_1}-V_2 SCR_1(\\frac{1+SCRQ}{QR})) = -V_1\\frac{K}{R}\n",
    "\\end{equation}\n",
    "\n",
    "\\begin{equation}\n",
    "V_2( (\\frac{1}{R_1}-\\frac{SCR_1+S^2C^2R_1RQ}{QR}) = -V_1\\frac{K}{R}\n",
    "\\end{equation}\n",
    "\n",
    "\\begin{equation}\n",
    "V_2( (\\frac{QR-SCR_1^2-S^2C^2R_1^2RQ}{QR_1}) = -V_1\\frac{K}{1}\n",
    "\\end{equation}\n",
    "\n",
    "\n",
    "\\begin{equation}\n",
    "\\frac{V_2}{V_1}  = - \\frac{KQR_1}{QR+SCR_1^2+S^2C^2R_1^2RQ}\n",
    "\\end{equation}\n",
    "\n",
    "\\begin{equation}\n",
    "\\frac{V_2}{V_1}  = -\\frac{KR_1}{C^2R_1^2R}.\\frac{1}{S^2+S\\frac{1}{CRQ}+\\frac{1}{C^2R_1^2}}\n",
    "\\end{equation}\n",
    "\n",
    "\\begin{equation}\n",
    "\\frac{V_2}{V_1}  = \\frac{K_x \\omega_0^2}{S^2+S\\frac{\\omega_x}{Q}+\\omega_0^2}\n",
    "\\end{equation}\n",
    "\n",
    "\n",
    "\\begin{equation}\n",
    "\\frac{V_2}{V_1}  = -\\frac{KR_1}{R}.\\frac{\\frac{1}{C^2R_1^2}}{S^2+S\\frac{1}{CRQ}+\\frac{1}{C^2R_1^2}}\n",
    "\\end{equation}\n",
    "\n",
    "\\begin{equation}\n",
    "T_s = \\frac{\\frac{c}{a}}{S^2+S.\\frac{b}{a}+\\frac{c}{a}}\n",
    "\\end{equation}\n",
    "\n",
    "\\begin{equation}\n",
    "\\frac{c}{a} = \\frac{1}{C^2R_1^2} \\rightarrow si: C=1 \\Rightarrow R_1  = \\sqrt{\\frac{a}{c}}\n",
    "\\end{equation}\n",
    "\n",
    "\\begin{equation}\n",
    "\\frac{b}{a} = \\frac{1}{CRQ} \\rightarrow si: C = 1 y R = 1 \\Rightarrow Q  = \\frac{a}{b}\n",
    "\\end{equation}\n",
    "\n",
    "\\begin{equation}\n",
    "\\frac{kR1}{R} = 1 \\rightarrow si: R = 1 \\Rightarrow K  = \\frac{1}{R_1} = \\sqrt{\\frac{c}{a}}\n",
    "\\end{equation}"
   ]
  },
  {
   "cell_type": "code",
   "execution_count": 20,
   "metadata": {},
   "outputs": [
    {
     "name": "stdout",
     "output_type": "stream",
     "text": [
      "R_1n = 1.050005\n",
      "Q = 0.910967\n",
      "K = 0.952376\n",
      "C = 0.000002\n",
      "R = 1000.000000\n",
      "C = 0.000002\n",
      "R_1 = 1050.004918\n",
      "QR = 910.967229\n",
      "R/K = 1050.004918\n"
     ]
    }
   ],
   "source": [
    "R_1n = np.sqrt(c/a)\n",
    "Q = a/b\n",
    "K = np.sqrt(a/c)\n",
    "print('R_1n = {:f}'.format(R_1n) )\n",
    "print('Q = {:f}'.format(Q) )\n",
    "print('K = {:f}'.format(K) )\n",
    "Rn = 1000\n",
    "Cnw = 1\n",
    "Wn=500\n",
    "Cn = Cnw / Wn\n",
    "print('C = {:f}'.format(C) )\n",
    "\n",
    "R = 1 * Rn\n",
    "C = Cn / Rn\n",
    "R_1 = R_1n * Rn\n",
    "QR = Q * R\n",
    "R_K = R / K\n",
    "\n",
    "print('R = {:f}'.format(R) )\n",
    "print('C = {:f}'.format(C) )\n",
    "print('R_1 = {:f}'.format(R_1) )\n",
    "print('QR = {:f}'.format(QR) )\n",
    "print('R/K = {:f}'.format(R_K) )"
   ]
  },
  {
   "attachments": {},
   "cell_type": "markdown",
   "metadata": {},
   "source": [
    "\n",
    "<img src=\"./Simulacion_1.JPG\" align=\"center\" width=\"70%\" /> \n",
    "\n",
    "<img src=\"./Simulacion_2.JPG\" align=\"center\" width=\"100%\" /> \n",
    "\n",
    "<img src=\"./Simulacion_3.JPG\" align=\"center\" width=\"150%\" /> \n"
   ]
  }
 ],
 "metadata": {
  "kernelspec": {
   "display_name": "Python 3",
   "language": "python",
   "name": "python3"
  },
  "language_info": {
   "codemirror_mode": {
    "name": "ipython",
    "version": 3
   },
   "file_extension": ".py",
   "mimetype": "text/x-python",
   "name": "python",
   "nbconvert_exporter": "python",
   "pygments_lexer": "ipython3",
   "version": "3.7.6"
  }
 },
 "nbformat": 4,
 "nbformat_minor": 4
}
